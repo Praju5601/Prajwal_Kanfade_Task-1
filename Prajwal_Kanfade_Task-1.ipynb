{
 "cells": [
  {
   "cell_type": "markdown",
   "id": "91726c4c-fb08-46a0-8f84-ee3faf87ddd5",
   "metadata": {},
   "source": [
    "# 1.Replace"
   ]
  },
  {
   "cell_type": "markdown",
   "id": "278d5ee2-24fc-4e91-91d1-f7c7168ac3f5",
   "metadata": {},
   "source": [
    "* Repalce function is used to replace set of char or string from a string"
   ]
  },
  {
   "cell_type": "code",
   "execution_count": 3,
   "id": "25915934-ac5d-44fc-9c05-934ffce8a542",
   "metadata": {},
   "outputs": [],
   "source": [
    "R1 = 'This is 6'"
   ]
  },
  {
   "cell_type": "code",
   "execution_count": 5,
   "id": "7d4b99bf-b1b6-4f29-a699-9027aa5072b3",
   "metadata": {},
   "outputs": [],
   "source": [
    "R2 = R1.replace ('6','7')"
   ]
  },
  {
   "cell_type": "code",
   "execution_count": 7,
   "id": "d0953df8-eb2c-4879-9c94-db16458e532c",
   "metadata": {},
   "outputs": [
    {
     "data": {
      "text/plain": [
       "'This is 7'"
      ]
     },
     "execution_count": 7,
     "metadata": {},
     "output_type": "execute_result"
    }
   ],
   "source": [
    "R2"
   ]
  },
  {
   "cell_type": "markdown",
   "id": "481d60a1-3f97-4f5d-9c93-707ca767906a",
   "metadata": {},
   "source": [
    "# 2.Count"
   ]
  },
  {
   "cell_type": "markdown",
   "id": "68283057-fc39-466b-b0e4-5c955ac31f99",
   "metadata": {},
   "source": [
    "* Count function is used to Counts the number of occurrences of a substring"
   ]
  },
  {
   "cell_type": "code",
   "execution_count": 27,
   "id": "3ec34f23-acbb-4186-8296-02c7b76b3bd5",
   "metadata": {},
   "outputs": [],
   "source": [
    "C1 = 'pineapple'"
   ]
  },
  {
   "cell_type": "code",
   "execution_count": 29,
   "id": "bbd57529-cb26-45de-a9ed-6257d73fc5fe",
   "metadata": {},
   "outputs": [],
   "source": [
    "C2 = C1.count ('e')"
   ]
  },
  {
   "cell_type": "code",
   "execution_count": 31,
   "id": "8eaa9562-9360-475b-ad05-0caac0e4b41e",
   "metadata": {},
   "outputs": [
    {
     "data": {
      "text/plain": [
       "2"
      ]
     },
     "execution_count": 31,
     "metadata": {},
     "output_type": "execute_result"
    }
   ],
   "source": [
    "C2"
   ]
  },
  {
   "cell_type": "markdown",
   "id": "9c580ae7-540a-4bca-baf9-9bf09bb1af76",
   "metadata": {},
   "source": [
    "# 3.Lenght"
   ]
  },
  {
   "cell_type": "markdown",
   "id": "8e74273c-59b7-426f-89c1-8366a8b425c7",
   "metadata": {},
   "source": [
    "* Length function is used to returns the length of the string"
   ]
  },
  {
   "cell_type": "code",
   "execution_count": 37,
   "id": "de0cd438-78bb-44ae-b725-3c01cac01196",
   "metadata": {},
   "outputs": [
    {
     "data": {
      "text/plain": [
       "7"
      ]
     },
     "execution_count": 37,
     "metadata": {},
     "output_type": "execute_result"
    }
   ],
   "source": [
    "L1 = 'Prajwal'\n",
    "L2 = len(L1)\n",
    "L2"
   ]
  },
  {
   "cell_type": "markdown",
   "id": "2d9d9d63-9de6-4586-9ff6-d846ebacbf9b",
   "metadata": {},
   "source": [
    "# 4.Join"
   ]
  },
  {
   "cell_type": "markdown",
   "id": "8db4f05e-ba9d-4bf7-b4fe-94897cceeeaf",
   "metadata": {},
   "source": [
    "* Join function is used to Joins a list of strings into a single string"
   ]
  },
  {
   "cell_type": "code",
   "execution_count": 41,
   "id": "fe923a73-3de1-4f06-a943-e2e0a76542ff",
   "metadata": {},
   "outputs": [
    {
     "data": {
      "text/plain": [
       "'Hello,World'"
      ]
     },
     "execution_count": 41,
     "metadata": {},
     "output_type": "execute_result"
    }
   ],
   "source": [
    "J1 = [\"Hello\" , \"World\"]\n",
    "J2 = \",\".join(J1)\n",
    "J2"
   ]
  },
  {
   "cell_type": "markdown",
   "id": "e17f399c-63fc-4a0d-8c48-09491925e150",
   "metadata": {},
   "source": [
    "# 5.Find"
   ]
  },
  {
   "cell_type": "markdown",
   "id": "8ed9eb36-b8e8-42fe-a5af-68649dca213d",
   "metadata": {},
   "source": [
    "* Find function is used to finds the first occurrence of a substring"
   ]
  },
  {
   "cell_type": "code",
   "execution_count": 48,
   "id": "647218a8-3110-46ef-be1a-68b68c15e324",
   "metadata": {},
   "outputs": [
    {
     "data": {
      "text/plain": [
       "16"
      ]
     },
     "execution_count": 48,
     "metadata": {},
     "output_type": "execute_result"
    }
   ],
   "source": [
    "F1 = 'finds the first occurrence of a substring'\n",
    "F2 = F1.find('occurrence')\n",
    "F2"
   ]
  },
  {
   "cell_type": "markdown",
   "id": "6187f172-62b2-41d8-8693-4da78053edaf",
   "metadata": {},
   "source": [
    "# 6.Split"
   ]
  },
  {
   "cell_type": "markdown",
   "id": "63c60688-aa74-4fb2-b911-1eea6ff75354",
   "metadata": {},
   "source": [
    "* split function is used to Splits the string into a list of substrings"
   ]
  },
  {
   "cell_type": "code",
   "execution_count": 57,
   "id": "65841ff0-34bf-4185-962e-7fba0024f71b",
   "metadata": {},
   "outputs": [
    {
     "data": {
      "text/plain": [
       "['Hello', ' World']"
      ]
     },
     "execution_count": 57,
     "metadata": {},
     "output_type": "execute_result"
    }
   ],
   "source": [
    "S1 = \"Hello, World\"\n",
    "S2 = S1.split(\",\")\n",
    "S2"
   ]
  },
  {
   "cell_type": "markdown",
   "id": "f044b7e5-baf7-49a8-aa4f-6b081c6f0bdc",
   "metadata": {},
   "source": [
    "# 7.Title"
   ]
  },
  {
   "cell_type": "markdown",
   "id": "f4c55f6e-df85-4972-a149-90cb1b3f5703",
   "metadata": {},
   "source": [
    "* Title function is used to Converts the first character of each word to uppercase"
   ]
  },
  {
   "cell_type": "code",
   "execution_count": 65,
   "id": "773a03c7-db48-4e41-be8a-de87807e0895",
   "metadata": {},
   "outputs": [
    {
     "data": {
      "text/plain": [
       "'Hello, World'"
      ]
     },
     "execution_count": 65,
     "metadata": {},
     "output_type": "execute_result"
    }
   ],
   "source": [
    "T1 = \"hello, world\"\n",
    "T2 = T1.title()\n",
    "T2"
   ]
  },
  {
   "cell_type": "markdown",
   "id": "38fec27f-d100-43db-9f33-ef1564637ae1",
   "metadata": {},
   "source": [
    "# 8.Lower"
   ]
  },
  {
   "cell_type": "markdown",
   "id": "b816e035-3dcf-4a28-8216-58d846d79eef",
   "metadata": {},
   "source": [
    "* Lower function is used to Converts all characters in the string to lowercase"
   ]
  },
  {
   "cell_type": "code",
   "execution_count": 69,
   "id": "4b6fca83-8d0f-4ac7-8262-c5735d7c13e9",
   "metadata": {},
   "outputs": [
    {
     "data": {
      "text/plain": [
       "'hello, world'"
      ]
     },
     "execution_count": 69,
     "metadata": {},
     "output_type": "execute_result"
    }
   ],
   "source": [
    "L1 = \"HELLO, WORLD\"\n",
    "L2 = L1.lower()\n",
    "L2\n"
   ]
  },
  {
   "cell_type": "markdown",
   "id": "1144534d-336e-4ce3-b6d6-9509892b6e9a",
   "metadata": {},
   "source": [
    "# 9.Upper"
   ]
  },
  {
   "cell_type": "markdown",
   "id": "d6cab981-b6ad-486a-af2c-2deb71a8544c",
   "metadata": {},
   "source": [
    "* Upper function is used to Converts all characters in the string to uppercase"
   ]
  },
  {
   "cell_type": "code",
   "execution_count": 73,
   "id": "da0903d9-f53b-4343-886a-59cb160b6142",
   "metadata": {},
   "outputs": [
    {
     "data": {
      "text/plain": [
       "'HELLO, WORLD'"
      ]
     },
     "execution_count": 73,
     "metadata": {},
     "output_type": "execute_result"
    }
   ],
   "source": [
    "U1 = \"hello, world\"\n",
    "U2 = U1.upper()\n",
    "U2"
   ]
  },
  {
   "cell_type": "markdown",
   "id": "2f148069-30df-4369-bd4f-3c7b351cb441",
   "metadata": {},
   "source": [
    "# 10.Strip"
   ]
  },
  {
   "cell_type": "markdown",
   "id": "51d3da10-ea61-4c6b-b0ec-85fc8cf33767",
   "metadata": {},
   "source": [
    "* Strip function is used to removes leading and trailing whitespace."
   ]
  },
  {
   "cell_type": "code",
   "execution_count": 81,
   "id": "2d46ee9d-94d4-4a6c-b403-7d3e533de4eb",
   "metadata": {},
   "outputs": [
    {
     "data": {
      "text/plain": [
       "'Hello,World'"
      ]
     },
     "execution_count": 81,
     "metadata": {},
     "output_type": "execute_result"
    }
   ],
   "source": [
    "S1 = \"   Hello,World  \"\n",
    "S2 = S1.strip()\n",
    "S2"
   ]
  },
  {
   "cell_type": "markdown",
   "id": "6332f996-a1c8-4bd3-8064-b073b9171b63",
   "metadata": {},
   "source": [
    "# 11.Swapcase"
   ]
  },
  {
   "cell_type": "markdown",
   "id": "4d3fd169-fe45-4605-beae-d99f0610c22d",
   "metadata": {},
   "source": [
    "* Swapcase function is used to swaps uppercase to lowercase and vice versa"
   ]
  },
  {
   "cell_type": "code",
   "execution_count": 85,
   "id": "ea7739f0-04c2-4436-b6f7-765489445c22",
   "metadata": {},
   "outputs": [
    {
     "data": {
      "text/plain": [
       "'hELLO , wORLD'"
      ]
     },
     "execution_count": 85,
     "metadata": {},
     "output_type": "execute_result"
    }
   ],
   "source": [
    "X1 = \"Hello , World\"\n",
    "X2 = X1.swapcase()\n",
    "X2"
   ]
  },
  {
   "cell_type": "markdown",
   "id": "3ee4db1c-4eea-405b-9605-1be6de7a59c0",
   "metadata": {},
   "source": [
    "# 12.zFill"
   ]
  },
  {
   "cell_type": "markdown",
   "id": "e364263f-05be-4810-b301-3a57893c36f7",
   "metadata": {},
   "source": [
    "* zFill function is used to Pads the string with zeros on the left, to fill the width."
   ]
  },
  {
   "cell_type": "code",
   "execution_count": 89,
   "id": "cda93ac1-c7a1-43b3-a9d2-4f684b41430f",
   "metadata": {},
   "outputs": [
    {
     "data": {
      "text/plain": [
       "'0022'"
      ]
     },
     "execution_count": 89,
     "metadata": {},
     "output_type": "execute_result"
    }
   ],
   "source": [
    "Z1 = '22'\n",
    "Z2 = Z1.zfill(4)\n",
    "Z2"
   ]
  },
  {
   "cell_type": "markdown",
   "id": "7404fcf4-fad7-4ebd-bacf-d208a5a0925f",
   "metadata": {},
   "source": [
    "# 13.Format"
   ]
  },
  {
   "cell_type": "markdown",
   "id": "2dc22485-29ce-4167-a5dc-a6bc5b75960e",
   "metadata": {},
   "source": [
    "* Format function is used to formats the string using placeholders."
   ]
  },
  {
   "cell_type": "code",
   "execution_count": 93,
   "id": "8d694299-f767-435e-9de4-5035c34e45b3",
   "metadata": {},
   "outputs": [
    {
     "data": {
      "text/plain": [
       "'Hello, World'"
      ]
     },
     "execution_count": 93,
     "metadata": {},
     "output_type": "execute_result"
    }
   ],
   "source": [
    "F1 = \"Hello, {}\"\n",
    "F2 = F1.format('World')\n",
    "F2"
   ]
  },
  {
   "cell_type": "markdown",
   "id": "a4438ded-6672-48ec-b122-a9cfe87d1081",
   "metadata": {},
   "source": [
    "# 14.Expandtabs"
   ]
  },
  {
   "cell_type": "markdown",
   "id": "8e4e68ea-4b15-425e-af67-75a16de14df5",
   "metadata": {},
   "source": [
    "* Expandtabs is used to Replaces tab characters (\\t) with spaces."
   ]
  },
  {
   "cell_type": "code",
   "execution_count": 99,
   "id": "29702d85-e75d-4d88-90f1-7f4a20096cb8",
   "metadata": {},
   "outputs": [
    {
     "data": {
      "text/plain": [
       "'Hello     World'"
      ]
     },
     "execution_count": 99,
     "metadata": {},
     "output_type": "execute_result"
    }
   ],
   "source": [
    "E1 = \"Hello\\tWorld\"\n",
    "E2 = E1.expandtabs(5)\n",
    "E2\n",
    "                   "
   ]
  },
  {
   "cell_type": "markdown",
   "id": "ac56eb0e-b8a7-4386-8671-4604fbe24b6b",
   "metadata": {},
   "source": [
    "# 15.Center"
   ]
  },
  {
   "cell_type": "markdown",
   "id": "172c4ae8-3ea2-438f-8c1b-5e67a5f0bd34",
   "metadata": {},
   "source": [
    "* Center function is used to centers the string, padding it with a specified character."
   ]
  },
  {
   "cell_type": "code",
   "execution_count": 107,
   "id": "2a49d002-8940-4adc-bb4c-da0b465f8558",
   "metadata": {},
   "outputs": [
    {
     "data": {
      "text/plain": [
       "'*****Hello*****'"
      ]
     },
     "execution_count": 107,
     "metadata": {},
     "output_type": "execute_result"
    }
   ],
   "source": [
    "C1 = \"Hello\"\n",
    "C2 = C1.center(15,\"*\")\n",
    "C2"
   ]
  },
  {
   "cell_type": "code",
   "execution_count": null,
   "id": "f98f00de-8db7-410c-b834-d39a7293520d",
   "metadata": {},
   "outputs": [],
   "source": []
  }
 ],
 "metadata": {
  "kernelspec": {
   "display_name": "Python 3 (ipykernel)",
   "language": "python",
   "name": "python3"
  },
  "language_info": {
   "codemirror_mode": {
    "name": "ipython",
    "version": 3
   },
   "file_extension": ".py",
   "mimetype": "text/x-python",
   "name": "python",
   "nbconvert_exporter": "python",
   "pygments_lexer": "ipython3",
   "version": "3.12.4"
  }
 },
 "nbformat": 4,
 "nbformat_minor": 5
}
